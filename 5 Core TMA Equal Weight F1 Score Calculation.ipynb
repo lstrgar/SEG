{
 "cells": [
  {
   "cell_type": "code",
   "execution_count": 1,
   "id": "bad9132d",
   "metadata": {},
   "outputs": [],
   "source": [
    "import numpy as np\n",
    "from skimage.io import imread, imshow, imsave\n",
    "import os\n",
    "import matplotlib.pyplot as plt\n",
    "from scipy.special import softmax\n",
    "import pandas as pd\n",
    "from skimage.morphology import binary_dilation, disk\n",
    "from skimage.measure import regionprops, label\n",
    "from seg_utils import get_mask, get_gt, create_pmask, filter_pmask, get_pseudo_ground_truths, f1_score"
   ]
  },
  {
   "cell_type": "code",
   "execution_count": 2,
   "id": "59d5dbb8",
   "metadata": {},
   "outputs": [],
   "source": [
    "methods = [\"Mesmer\", \"Stardist\", \"Cellpose\", \"UnMicst\"]\n",
    "datapath = \"/home/groups/ChangLab/dataset/HMS-TMA-TNP/OHSU-TMA/Segmentations/\"\n",
    "sample_ids = ['Scene 002','Scene 003', 'Scene 017', 'Scene 049', 'Scene 059']"
   ]
  },
  {
   "cell_type": "code",
   "execution_count": 3,
   "id": "bf4059f3",
   "metadata": {},
   "outputs": [],
   "source": [
    "def get_pseudo_ground_truths(pmasks, sample_ids, methods, weights, agree_ratio):\n",
    "    pseudo_gts = {}\n",
    "\n",
    "    for s,sid in enumerate(sample_ids):\n",
    "        gt = sum([pmasks[sid][method] * weights[s][m] for m,method in enumerate(methods)])\n",
    "        print(np.unique(gt))\n",
    "        pseudo_gts[sid] = (gt >= agree_ratio).astype('int')\n",
    "    \n",
    "    return pseudo_gts"
   ]
  },
  {
   "cell_type": "markdown",
   "id": "a6acd563",
   "metadata": {},
   "source": [
    "# 12 Radius Equal weights"
   ]
  },
  {
   "cell_type": "markdown",
   "id": "3c446a2d",
   "metadata": {},
   "source": [
    "The first step here is to generate the 'probability masks' from the original segmentation masks for every sample for every method. This is done by first zeroing out the mask, then taking the point at the center of each segmented cell, setting it equal to 1, and dilating out with a disc shape and a 12-pixel radius (the radius length varies)."
   ]
  },
  {
   "cell_type": "code",
   "execution_count": 4,
   "id": "9b5d53fa",
   "metadata": {
    "scrolled": true
   },
   "outputs": [],
   "source": [
    "pmasks = {}\n",
    "\n",
    "for sid in sample_ids:\n",
    "    pmasks[sid] = {}\n",
    "    \n",
    "    for method in methods:\n",
    "        method_mask = get_mask(datapath, sid, method)\n",
    "        pmasks[sid][method] = create_pmask(method_mask, 12)"
   ]
  },
  {
   "cell_type": "markdown",
   "id": "f0d01c84",
   "metadata": {},
   "source": [
    "Next we have to generate \"pseudo-ground-truth' segmentation masks by taking all locations where 3 of the 4 methods agree, using the pmasks generated in the cell above."
   ]
  },
  {
   "cell_type": "code",
   "execution_count": 5,
   "id": "ec38735b",
   "metadata": {},
   "outputs": [],
   "source": [
    "agree_ratio = 3/4 \n",
    "weights = np.ones((len(sample_ids),len(methods))) * (1/len(methods)) #equal weights"
   ]
  },
  {
   "cell_type": "code",
   "execution_count": 6,
   "id": "ed804d4a",
   "metadata": {},
   "outputs": [
    {
     "name": "stdout",
     "output_type": "stream",
     "text": [
      "[0.   0.25 0.5  0.75 1.  ]\n",
      "[0.   0.25 0.5  0.75 1.  ]\n",
      "[0.   0.25 0.5  0.75 1.  ]\n",
      "[0.   0.25 0.5  0.75 1.  ]\n",
      "[0.   0.25 0.5  0.75 1.  ]\n"
     ]
    }
   ],
   "source": [
    "pseudo_gts = get_pseudo_ground_truths(pmasks, sample_ids, methods, weights, agree_ratio)"
   ]
  },
  {
   "cell_type": "markdown",
   "id": "04db53ce",
   "metadata": {},
   "source": [
    "Now we need to generate filtered probability masks where each probability mask is now filtered down to only allow one pseudo-cell-label (centroid with the dilated disc) in the probability mask to vote for only one cell label in the pseudo-ground truth mask."
   ]
  },
  {
   "cell_type": "code",
   "execution_count": null,
   "id": "01a8b50e",
   "metadata": {
    "scrolled": true
   },
   "outputs": [],
   "source": [
    "f_pmasks = {}\n",
    "\n",
    "for sid in sample_ids:\n",
    "    f_pmasks[sid] = {}\n",
    "    \n",
    "    for method in methods:\n",
    "        f_pmasks[sid][method] = filter_pmask(pmasks[sid][method], label(pseudo_gts[sid]))"
   ]
  },
  {
   "cell_type": "markdown",
   "id": "ca64697c",
   "metadata": {},
   "source": [
    "Now we can regenerate the Pseudo-ground-truth masks with the filtered probability masks."
   ]
  },
  {
   "cell_type": "code",
   "execution_count": null,
   "id": "c8393c45",
   "metadata": {},
   "outputs": [],
   "source": [
    "f_pseudo_gts = get_pseudo_ground_truths(f_pmasks, sample_ids, methods, weights, agree_ratio)"
   ]
  },
  {
   "cell_type": "markdown",
   "id": "d6d97e40",
   "metadata": {},
   "source": [
    "Now we can calculate the F1 score for each method against the pseudo-ground-truth for each sample"
   ]
  },
  {
   "cell_type": "code",
   "execution_count": null,
   "id": "dcad51ff",
   "metadata": {
    "scrolled": true
   },
   "outputs": [],
   "source": [
    "f1s_per_sample = []\n",
    "\n",
    "for sid in sample_ids:\n",
    "    cum_f1s = []\n",
    "    cum_ps = []\n",
    "    cum_rs = []\n",
    "    \n",
    "    for method in methods:\n",
    "        method_mask = label(f_pmasks[sid][method])\n",
    "        f1 = f1_score(f_pseudo_gts[sid], method_mask)\n",
    "        \n",
    "        cum_f1s.append(f1)       \n",
    "    f1s_per_sample.append(cum_f1s)"
   ]
  },
  {
   "cell_type": "code",
   "execution_count": null,
   "id": "84b519ab",
   "metadata": {
    "scrolled": false
   },
   "outputs": [],
   "source": [
    "fig, ax = plt.subplots(figsize=(6,6))\n",
    "\n",
    "ax.bar(np.arange(4)-0.11, np.mean(np.array(f1s_per_sample),axis=0), color='royalblue', width=0.2)\n",
    "\n",
    "ax.set(ylim=[0.90,1])\n",
    "plt.setp(ax, xticks=np.arange(4), xticklabels=methods)\n",
    "plt.yticks(np.arange(0.7, 1, 0.05))\n",
    "plt.ylabel('F1')\n",
    "plt.show()"
   ]
  },
  {
   "cell_type": "code",
   "execution_count": null,
   "id": "9212cba5",
   "metadata": {},
   "outputs": [],
   "source": []
  }
 ],
 "metadata": {
  "kernelspec": {
   "display_name": "Python [conda env:vit-mesmer] *",
   "language": "python",
   "name": "conda-env-vit-mesmer-py"
  },
  "language_info": {
   "codemirror_mode": {
    "name": "ipython",
    "version": 3
   },
   "file_extension": ".py",
   "mimetype": "text/x-python",
   "name": "python",
   "nbconvert_exporter": "python",
   "pygments_lexer": "ipython3",
   "version": "3.8.12"
  }
 },
 "nbformat": 4,
 "nbformat_minor": 5
}
