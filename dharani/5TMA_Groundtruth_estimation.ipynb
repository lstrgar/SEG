{
 "cells": [
  {
   "cell_type": "code",
   "execution_count": 1,
   "id": "42df1c0c",
   "metadata": {},
   "outputs": [],
   "source": [
    "import os\n",
    "import numpy as np\n",
    "import matplotlib.pyplot as plt\n",
    "import skimage.io\n",
    "from skimage.io import imread, imsave\n",
    "import cv2\n",
    "import pickle\n",
    "#from skimage.metrics import structural_similarity as ssim"
   ]
  },
  {
   "cell_type": "code",
   "execution_count": 2,
   "id": "69bf4678",
   "metadata": {},
   "outputs": [],
   "source": [
    "path = \"/home/groups/ChangLab/dharani/OHSU-TMA/\"\n",
    "\n",
    "# plot1 \n",
    "#img1 = imread(os.path.join(path, \"Contours/BR1506-A015 - Scene 002.png\"))\n",
    "#plt.imshow(img1[1000:1500, 1000:1500])\n",
    "#plt.title(\"Contours\")\n",
    "#plt.show()\n",
    "\n",
    "# plot 2\n",
    "#img2 = imread(os.path.join(path, \"Foreground/BR1506-A015 - Scene 002.png\"))\n",
    "#plt.imshow(img2[1000:1500, 1000:1500])\n",
    "#plt.title(\"Foreground\")\n",
    "#plt.show()\n",
    "\n",
    "# plot 3\n",
    "img3 = imread(os.path.join(path, \"Labels/BR1506-A015 - Scene 059.tif\"))\n",
    "#plt.imshow(img3[1000:1500, 1000:1500])\n",
    "#plt.title(\"Labels\")\n",
    "#plt.show()\n",
    "\n",
    "# plot 4\n",
    "#img4 = imread(os.path.join(path, \"Originals/BR1506-A015 - Scene 002.png\"))\n",
    "#plt.imshow(img4[1000:1500, 1000:1500])\n",
    "#plt.title(\"Originals\")\n",
    "#plt.show()\n"
   ]
  },
  {
   "cell_type": "code",
   "execution_count": 3,
   "id": "6ab6d60a",
   "metadata": {},
   "outputs": [],
   "source": [
    "# plot 5\n",
    "img5 = imread(os.path.join(path, \"Segmentations/Mesmer/BR1506-A015 - Scene 059.tif\"))\n",
    "#plt.imshow(img5[1000:1500, 1000:1500])\n",
    "#plt.title(\"Mesmer\")\n",
    "#plt.show()\n",
    "\n",
    "# plot 6\n",
    "#img6 = imread(os.path.join(path, \"Segmentations/Stardist/dsb/BR1506-A015 - Scene 003.png\"))\n",
    "#plt.imshow(img6[1000:1500, 1000:1500])\n",
    "#plt.title(\"stardist-dsb\")\n",
    "#plt.show()\n",
    "\n",
    "# plot 7\n",
    "img7 = imread(os.path.join(path, \"Segmentations/Stardist/BR1506-A015 - Scene 059.png\"))\n",
    "#plt.imshow(img7[1000:1500, 1000:1500])\n",
    "#plt.title(\"stardist-vf\")\n",
    "#plt.show()\n",
    "\n",
    "# plot 8\n",
    "img8 = imread(os.path.join(path, \"Segmentations/Cellpose/BR1506-A015 - Scene 059.png_mask.png\"))\n",
    "#plt.imshow(img8[1000:1500, 1000:1500])\n",
    "#plt.title(\"Cellpose\")\n",
    "#plt.show()\n",
    "\n",
    "# plot 9\n",
    "img9 = imread(os.path.join(path, \"Segmentations/UnMicst/BR1506-A015 - Scene 059.tif\"))\n",
    "#plt.imshow(img9[1000:1500, 1000:1500])\n",
    "#plt.title(\"UnMicst\")\n",
    "#plt.show()"
   ]
  },
  {
   "cell_type": "markdown",
   "id": "9c445278",
   "metadata": {},
   "source": [
    "### DICE Coefficient"
   ]
  },
  {
   "cell_type": "code",
   "execution_count": 4,
   "id": "625ca330",
   "metadata": {},
   "outputs": [],
   "source": [
    "gd_img = img3\n",
    "#gd_img_uint8 = np.uint8(gd_img) \n",
    "gd_img_binary = (gd_img > 0).astype(int)\n",
    "\n",
    "pred_img = img7 * 0.25\n",
    "#pred_img_uint8 = np.uint8(pred_img) \n",
    "pred_img_binary = (pred_img > 0).astype(int)"
   ]
  },
  {
   "cell_type": "code",
   "execution_count": 5,
   "id": "bee92a90",
   "metadata": {},
   "outputs": [
    {
     "name": "stdout",
     "output_type": "stream",
     "text": [
      "0.8491044918130658\n"
     ]
    }
   ],
   "source": [
    "#print(ssim(gd_img_binary, pred_img_binary))\n",
    "\n",
    "def dice_coeff(true, pred):\n",
    "    true_f = true#.flatten()\n",
    "    pred_f = pred#.flatten()\n",
    "    union = np.sum(true_f) + np.sum(pred_f)\n",
    "    if union==0:\n",
    "        return 1\n",
    "    intersection = np.sum(true_f * pred_f)\n",
    "    return (2.* intersection/union)\n",
    "\n",
    "dice_score = dice_coeff(gd_img_binary, pred_img_binary)\n",
    "print(dice_score)"
   ]
  },
  {
   "cell_type": "markdown",
   "id": "70785eb4",
   "metadata": {},
   "source": [
    "### IOU "
   ]
  },
  {
   "cell_type": "code",
   "execution_count": 7,
   "id": "884dc2f8",
   "metadata": {},
   "outputs": [
    {
     "name": "stdout",
     "output_type": "stream",
     "text": [
      "0.4245522459065329\n"
     ]
    }
   ],
   "source": [
    "def jaccard_idx(true, pred):\n",
    "    intersection = (true * pred).sum()\n",
    "    union = true.sum() + pred.sum() #- intersection\n",
    "    return intersection / union\n",
    "    \n",
    "iou_score = jaccard_idx(gd_img_binary, pred_img_binary)\n",
    "print(iou_score)"
   ]
  },
  {
   "cell_type": "markdown",
   "id": "2c0b9736",
   "metadata": {},
   "source": [
    "### PMasks - DICE and IOU"
   ]
  },
  {
   "cell_type": "code",
   "execution_count": null,
   "id": "74f119f5",
   "metadata": {},
   "outputs": [],
   "source": [
    "path = \"/home/groups/ChangLab/dharani/OHSU-TMA/\"\n",
    "path_pmasks = os.path.join(path, \"results_mscx/pmasks\")\n",
    "files = sorted(os.listdir(path_pmasks))\n",
    "\n",
    "with open(os.path.join(path_pmasks, files[0]), 'rb') as f:\n",
    "    values = pickle.load(f)"
   ]
  },
  {
   "cell_type": "code",
   "execution_count": null,
   "id": "e03bcf43",
   "metadata": {},
   "outputs": [],
   "source": [
    "for keys, value in values.items():\n",
    "    if keys == 4:\n",
    "        for methods, array in value.items():\n",
    "            if methods == 'mean':\n",
    "                print(array)\n",
    "                \n",
    "                dice_score = dice_coeff(gd_img_uint8, array, k=255)\n",
    "                print(dice_score)"
   ]
  },
  {
   "cell_type": "code",
   "execution_count": null,
   "id": "9cefa54d",
   "metadata": {},
   "outputs": [],
   "source": [
    "values[4][\"Mesmer\"].astype(int)"
   ]
  },
  {
   "cell_type": "markdown",
   "id": "55653a2a",
   "metadata": {},
   "source": [
    "### Pixel wise DICE & IOU calculation"
   ]
  },
  {
   "cell_type": "code",
   "execution_count": null,
   "id": "477fa75f",
   "metadata": {},
   "outputs": [],
   "source": [
    "gd_img = img3\n",
    "gd_img_binary = (gd_img > 0).astype(int)\n",
    "\n",
    "mesmer = img5\n",
    "mesmer_img_binary = (mesmer > 0).astype(int)\n",
    "\n",
    "stardist = img7\n",
    "stardist_img_binary = (stardist > 0).astype(int)\n",
    "\n",
    "cellpose = img8\n",
    "cellpose_img_binary = (cellpose > 0).astype(int)\n",
    "\n",
    "unmicst = img9\n",
    "unmicst_img_binary = (unmicst > 0).astype(int)"
   ]
  },
  {
   "cell_type": "code",
   "execution_count": null,
   "id": "67fb88a1",
   "metadata": {},
   "outputs": [],
   "source": [
    "# different weights \n",
    "\n",
    "print(\"Weights of 12\")\n",
    "\n",
    "#        \"Mesmer\":   {4:0.21, 8:0.24, 12:0.38, 16:0.46, 20:0.40, 24:0.27, 28:0.18, 32:0.15}, \n",
    "#        \"Stardist\": {4:0.26, 8:0.28, 12:0.20, 16:0.11, 20:0.07, 24:0.06, 28:0.06, 32:0.07}, \n",
    "#        \"Cellpose\":{4:0.23, 8:0.24, 12:0.27, 16:0.26, 20:0.34, 24:0.37, 28:0.43, 32:0.58}, \n",
    "#        \"UnMicst\": {4:0.28, 8:0.23, 12:0.13, 16:0.15, 20:0.16, 24:0.28, 28:0.31, 32:0.18}\n",
    "\n",
    "# equal weights\n",
    "#total_sum =  mesmer_img_binary * 0.25 + stardist_img_binary * 0.25 + cellpose_img_binary * 0.25 + unmicst_img_binary * 0.25#all\n",
    "#total_sum =  mesmer_img_binary * 0.25 + stardist_img_binary * 0.25 + cellpose_img_binary * 0.25  # w/o unmicst\n",
    "#total_sum =  mesmer_img_binary * 0.25 + stardist_img_binary * 0.25 + unmicst_img_binary * 0.25 # w/o cellpose\n",
    "#total_sum =  mesmer_img_binary * 0.25 + cellpose_img_binary * 0.25 + unmicst_img_binary * 0.25 # w/o stardist\n",
    "#total_sum =  stardist_img_binary * 0.25 + cellpose_img_binary * 0.25 + unmicst_img_binary * 0.25 # w/o mesmer\n",
    "\n",
    "# unequal weights\n",
    "#total_sum =  mesmer_img_binary * 0.38 + stardist_img_binary * 0.20 + cellpose_img_binary * 0.27 + unmicst_img_binary * 0.13 #all\n",
    "#total_sum =  mesmer_img_binary * 0.38 + stardist_img_binary * 0.20 + cellpose_img_binary * 0.27  # w/o unmicst\n",
    "#total_sum =  mesmer_img_binary * 0.38 + stardist_img_binary * 0.20 + unmicst_img_binary * 0.13 # w/o cellpose\n",
    "#total_sum =  mesmer_img_binary * 0.38 + cellpose_img_binary * 0.27 + unmicst_img_binary * 0.13 # w/o stardist\n",
    "total_sum =  stardist_img_binary * 0.20 + cellpose_img_binary * 0.27 + unmicst_img_binary * 0.13 # w/o mesmer\n",
    "\n",
    "print(np.unique(total_sum))"
   ]
  },
  {
   "cell_type": "code",
   "execution_count": null,
   "id": "e05103f9",
   "metadata": {},
   "outputs": [],
   "source": [
    "total_img_binary = (total_sum > 0.5).astype(int)\n",
    "print(np.max(total_img_binary))\n",
    "print(np.unique(total_img_binary))"
   ]
  },
  {
   "cell_type": "code",
   "execution_count": null,
   "id": "db6a6e44",
   "metadata": {},
   "outputs": [],
   "source": [
    "dice_score = dice_coeff2(gd_img_binary, total_img_binary)\n",
    "print(dice_score)\n",
    "\n",
    "iou_score = jaccard_idx(gd_img_binary, total_img_binary)\n",
    "print(iou_score)"
   ]
  },
  {
   "cell_type": "code",
   "execution_count": null,
   "id": "0bd38f42",
   "metadata": {},
   "outputs": [],
   "source": []
  },
  {
   "cell_type": "code",
   "execution_count": null,
   "id": "2dece6bf",
   "metadata": {},
   "outputs": [],
   "source": []
  }
 ],
 "metadata": {
  "kernelspec": {
   "display_name": "norm",
   "language": "python",
   "name": "norm_env"
  },
  "language_info": {
   "codemirror_mode": {
    "name": "ipython",
    "version": 3
   },
   "file_extension": ".py",
   "mimetype": "text/x-python",
   "name": "python",
   "nbconvert_exporter": "python",
   "pygments_lexer": "ipython3",
   "version": "3.8.13"
  }
 },
 "nbformat": 4,
 "nbformat_minor": 5
}
