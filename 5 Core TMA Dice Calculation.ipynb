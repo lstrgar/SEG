{
 "cells": [
  {
   "cell_type": "code",
   "execution_count": 1,
   "id": "bad9132d",
   "metadata": {},
   "outputs": [],
   "source": [
    "import numpy as np\n",
    "from skimage.io import imread, imshow, imsave\n",
    "import os\n",
    "import matplotlib.pyplot as plt\n",
    "from scipy.special import softmax\n",
    "import pandas as pd\n",
    "from skimage.morphology import binary_dilation, disk\n",
    "from skimage.measure import regionprops, label"
   ]
  },
  {
   "cell_type": "code",
   "execution_count": 2,
   "id": "59d5dbb8",
   "metadata": {},
   "outputs": [],
   "source": [
    "methods = [\"Mesmer\", \"Stardist\", \"Cellpose\", \"UnMicst\"]\n",
    "datapath = \"/home/groups/ChangLab/dataset/HMS-TMA-TNP/OHSU-TMA/Segmentations/\"\n",
    "sample_ids = ['Scene 002','Scene 003', 'Scene 017', 'Scene 049', 'Scene 059']"
   ]
  },
  {
   "cell_type": "code",
   "execution_count": 3,
   "id": "4ef83ec6",
   "metadata": {},
   "outputs": [],
   "source": [
    "def dice_coeff(true, pred):\n",
    "    true_f = true.flatten()\n",
    "    pred_f = pred.flatten()\n",
    "    union = np.sum(true_f) + np.sum(pred_f)\n",
    "    if union==0:\n",
    "        return 1\n",
    "    intersection = np.sum(true_f * pred_f)\n",
    "    return (2.* intersection/union)"
   ]
  },
  {
   "cell_type": "code",
   "execution_count": 6,
   "id": "61926376",
   "metadata": {},
   "outputs": [],
   "source": [
    "from seg_utils import get_mask, get_gt"
   ]
  },
  {
   "cell_type": "code",
   "execution_count": 7,
   "id": "c90335d9",
   "metadata": {},
   "outputs": [],
   "source": [
    "method_gt_table = np.zeros((len(methods), len(sample_ids)))\n",
    "for m,method in enumerate(methods):\n",
    "    for s,sid in enumerate(sample_ids):\n",
    "        method_mask = get_mask(datapath, sid, method)\n",
    "        method_mask = (method_mask > 0).astype('int')\n",
    "        gt = get_gt(sid)\n",
    "        gt = (gt > 0).astype('int')\n",
    "        method_gt_table[m][s] = dice_coeff(gt, method_mask)\n",
    "        "
   ]
  },
  {
   "cell_type": "code",
   "execution_count": 9,
   "id": "8dce5b1b",
   "metadata": {},
   "outputs": [
    {
     "data": {
      "text/html": [
       "<div>\n",
       "<style scoped>\n",
       "    .dataframe tbody tr th:only-of-type {\n",
       "        vertical-align: middle;\n",
       "    }\n",
       "\n",
       "    .dataframe tbody tr th {\n",
       "        vertical-align: top;\n",
       "    }\n",
       "\n",
       "    .dataframe thead th {\n",
       "        text-align: right;\n",
       "    }\n",
       "</style>\n",
       "<table border=\"1\" class=\"dataframe\">\n",
       "  <thead>\n",
       "    <tr style=\"text-align: right;\">\n",
       "      <th></th>\n",
       "      <th>Scene 002</th>\n",
       "      <th>Scene 003</th>\n",
       "      <th>Scene 017</th>\n",
       "      <th>Scene 049</th>\n",
       "      <th>Scene 059</th>\n",
       "    </tr>\n",
       "  </thead>\n",
       "  <tbody>\n",
       "    <tr>\n",
       "      <th>Mesmer</th>\n",
       "      <td>0.866914</td>\n",
       "      <td>0.833874</td>\n",
       "      <td>0.867354</td>\n",
       "      <td>0.845348</td>\n",
       "      <td>0.847514</td>\n",
       "    </tr>\n",
       "    <tr>\n",
       "      <th>Stardist</th>\n",
       "      <td>0.871493</td>\n",
       "      <td>0.798544</td>\n",
       "      <td>0.849238</td>\n",
       "      <td>0.836196</td>\n",
       "      <td>0.849104</td>\n",
       "    </tr>\n",
       "    <tr>\n",
       "      <th>Cellpose</th>\n",
       "      <td>0.852206</td>\n",
       "      <td>0.883965</td>\n",
       "      <td>0.844562</td>\n",
       "      <td>0.815968</td>\n",
       "      <td>0.839417</td>\n",
       "    </tr>\n",
       "    <tr>\n",
       "      <th>UnMicst</th>\n",
       "      <td>0.817395</td>\n",
       "      <td>0.810350</td>\n",
       "      <td>0.799904</td>\n",
       "      <td>0.738577</td>\n",
       "      <td>0.783098</td>\n",
       "    </tr>\n",
       "  </tbody>\n",
       "</table>\n",
       "</div>"
      ],
      "text/plain": [
       "          Scene 002  Scene 003  Scene 017  Scene 049  Scene 059\n",
       "Mesmer     0.866914   0.833874   0.867354   0.845348   0.847514\n",
       "Stardist   0.871493   0.798544   0.849238   0.836196   0.849104\n",
       "Cellpose   0.852206   0.883965   0.844562   0.815968   0.839417\n",
       "UnMicst    0.817395   0.810350   0.799904   0.738577   0.783098"
      ]
     },
     "execution_count": 9,
     "metadata": {},
     "output_type": "execute_result"
    }
   ],
   "source": [
    "pd.DataFrame(method_gt_table, index=methods, columns=sample_ids)"
   ]
  },
  {
   "cell_type": "markdown",
   "id": "df2cd0e0",
   "metadata": {},
   "source": [
    "# Evaluate methods using ground truth labels"
   ]
  },
  {
   "cell_type": "code",
   "execution_count": 14,
   "id": "928c1a43",
   "metadata": {},
   "outputs": [],
   "source": [
    "dice_table = np.zeros((len(sample_ids), len(methods)))\n",
    "\n",
    "for s,sid in enumerate(sample_ids):\n",
    "    gt = get_gt(sid)\n",
    "    gt = (gt > 0).astype('int')\n",
    "    \n",
    "    for m,method_out in enumerate(methods):\n",
    "        methods_in = [m for m in methods if m != method_out]\n",
    "        m_masks = []\n",
    "        \n",
    "        for method in methods_in:\n",
    "            method_mask = get_mask(datapath, sid, method)\n",
    "            method_mask[method_mask > 0] = 1\n",
    "            m_masks.append(method_mask)\n",
    "            \n",
    "        pseudo_gt = (sum(m_masks) >= 3).astype('int')\n",
    "        dice = dice_coeff(gt, pseudo_gt)\n",
    "        dice_table[s,m] = dice"
   ]
  },
  {
   "cell_type": "code",
   "execution_count": 15,
   "id": "928e254c",
   "metadata": {},
   "outputs": [
    {
     "data": {
      "text/html": [
       "<div>\n",
       "<style scoped>\n",
       "    .dataframe tbody tr th:only-of-type {\n",
       "        vertical-align: middle;\n",
       "    }\n",
       "\n",
       "    .dataframe tbody tr th {\n",
       "        vertical-align: top;\n",
       "    }\n",
       "\n",
       "    .dataframe thead th {\n",
       "        text-align: right;\n",
       "    }\n",
       "</style>\n",
       "<table border=\"1\" class=\"dataframe\">\n",
       "  <thead>\n",
       "    <tr style=\"text-align: right;\">\n",
       "      <th></th>\n",
       "      <th>Mesmer dropped</th>\n",
       "      <th>Stardist dropped</th>\n",
       "      <th>Cellpose dropped</th>\n",
       "      <th>UnMicst dropped</th>\n",
       "    </tr>\n",
       "  </thead>\n",
       "  <tbody>\n",
       "    <tr>\n",
       "      <th>Scene 002</th>\n",
       "      <td>0.772368</td>\n",
       "      <td>0.777804</td>\n",
       "      <td>0.782760</td>\n",
       "      <td>0.807856</td>\n",
       "    </tr>\n",
       "    <tr>\n",
       "      <th>Scene 003</th>\n",
       "      <td>0.804119</td>\n",
       "      <td>0.821026</td>\n",
       "      <td>0.791103</td>\n",
       "      <td>0.838813</td>\n",
       "    </tr>\n",
       "    <tr>\n",
       "      <th>Scene 017</th>\n",
       "      <td>0.755549</td>\n",
       "      <td>0.769438</td>\n",
       "      <td>0.766917</td>\n",
       "      <td>0.798740</td>\n",
       "    </tr>\n",
       "    <tr>\n",
       "      <th>Scene 049</th>\n",
       "      <td>0.699210</td>\n",
       "      <td>0.706349</td>\n",
       "      <td>0.718214</td>\n",
       "      <td>0.780739</td>\n",
       "    </tr>\n",
       "    <tr>\n",
       "      <th>Scene 059</th>\n",
       "      <td>0.731426</td>\n",
       "      <td>0.737895</td>\n",
       "      <td>0.746556</td>\n",
       "      <td>0.787055</td>\n",
       "    </tr>\n",
       "  </tbody>\n",
       "</table>\n",
       "</div>"
      ],
      "text/plain": [
       "           Mesmer dropped  Stardist dropped  Cellpose dropped  UnMicst dropped\n",
       "Scene 002        0.772368          0.777804          0.782760         0.807856\n",
       "Scene 003        0.804119          0.821026          0.791103         0.838813\n",
       "Scene 017        0.755549          0.769438          0.766917         0.798740\n",
       "Scene 049        0.699210          0.706349          0.718214         0.780739\n",
       "Scene 059        0.731426          0.737895          0.746556         0.787055"
      ]
     },
     "execution_count": 15,
     "metadata": {},
     "output_type": "execute_result"
    }
   ],
   "source": [
    "pd.DataFrame(dice_table, index=sample_ids, columns=[f'{m} dropped' for m in methods])"
   ]
  },
  {
   "cell_type": "code",
   "execution_count": 16,
   "id": "1878a7cc",
   "metadata": {
    "scrolled": true
   },
   "outputs": [],
   "source": [
    "dice_delta_table = np.zeros((len(sample_ids), len(methods)))\n",
    "\n",
    "for i,dice_i in enumerate(dice_table):\n",
    "    mean_dice = np.mean(dice_i)\n",
    "\n",
    "    for j,dice in enumerate(dice_i):\n",
    "        dice_delta_table[i][j] = 100 * (dice - mean_dice) / mean_dice"
   ]
  },
  {
   "cell_type": "code",
   "execution_count": 17,
   "id": "dcf69f83",
   "metadata": {},
   "outputs": [
    {
     "data": {
      "text/html": [
       "<div>\n",
       "<style scoped>\n",
       "    .dataframe tbody tr th:only-of-type {\n",
       "        vertical-align: middle;\n",
       "    }\n",
       "\n",
       "    .dataframe tbody tr th {\n",
       "        vertical-align: top;\n",
       "    }\n",
       "\n",
       "    .dataframe thead th {\n",
       "        text-align: right;\n",
       "    }\n",
       "</style>\n",
       "<table border=\"1\" class=\"dataframe\">\n",
       "  <thead>\n",
       "    <tr style=\"text-align: right;\">\n",
       "      <th></th>\n",
       "      <th>Mesmer dropped</th>\n",
       "      <th>Stardist dropped</th>\n",
       "      <th>Cellpose dropped</th>\n",
       "      <th>UnMicst dropped</th>\n",
       "    </tr>\n",
       "  </thead>\n",
       "  <tbody>\n",
       "    <tr>\n",
       "      <th>Scene 002</th>\n",
       "      <td>-1.633849</td>\n",
       "      <td>-0.941568</td>\n",
       "      <td>-0.310388</td>\n",
       "      <td>2.885805</td>\n",
       "    </tr>\n",
       "    <tr>\n",
       "      <th>Scene 003</th>\n",
       "      <td>-1.185376</td>\n",
       "      <td>0.892283</td>\n",
       "      <td>-2.784910</td>\n",
       "      <td>3.078004</td>\n",
       "    </tr>\n",
       "    <tr>\n",
       "      <th>Scene 017</th>\n",
       "      <td>-2.214663</td>\n",
       "      <td>-0.417136</td>\n",
       "      <td>-0.743405</td>\n",
       "      <td>3.375204</td>\n",
       "    </tr>\n",
       "    <tr>\n",
       "      <th>Scene 049</th>\n",
       "      <td>-3.707042</td>\n",
       "      <td>-2.723900</td>\n",
       "      <td>-1.089911</td>\n",
       "      <td>7.520853</td>\n",
       "    </tr>\n",
       "    <tr>\n",
       "      <th>Scene 059</th>\n",
       "      <td>-2.571761</td>\n",
       "      <td>-1.710083</td>\n",
       "      <td>-0.556368</td>\n",
       "      <td>4.838212</td>\n",
       "    </tr>\n",
       "  </tbody>\n",
       "</table>\n",
       "</div>"
      ],
      "text/plain": [
       "           Mesmer dropped  Stardist dropped  Cellpose dropped  UnMicst dropped\n",
       "Scene 002       -1.633849         -0.941568         -0.310388         2.885805\n",
       "Scene 003       -1.185376          0.892283         -2.784910         3.078004\n",
       "Scene 017       -2.214663         -0.417136         -0.743405         3.375204\n",
       "Scene 049       -3.707042         -2.723900         -1.089911         7.520853\n",
       "Scene 059       -2.571761         -1.710083         -0.556368         4.838212"
      ]
     },
     "execution_count": 17,
     "metadata": {},
     "output_type": "execute_result"
    }
   ],
   "source": [
    "pd.DataFrame(dice_delta_table, index=sample_ids, columns=[f'{m} dropped' for m in methods])"
   ]
  },
  {
   "cell_type": "code",
   "execution_count": 18,
   "id": "1f037fb1",
   "metadata": {},
   "outputs": [],
   "source": [
    "weights  = np.zeros(len(methods))\n",
    "avg_deltas  = np.zeros(len(methods))\n",
    "delta_table = dice_delta_table\n",
    "\n",
    "for m, method in enumerate(methods):\n",
    "    avg_deltas[m] = -np.mean(dice_delta_table[:,m])\n",
    "\n",
    "weights = softmax(avg_deltas)"
   ]
  },
  {
   "cell_type": "code",
   "execution_count": 19,
   "id": "c8c7843e",
   "metadata": {},
   "outputs": [
    {
     "data": {
      "text/plain": [
       "array([0.62874652, 0.17438593, 0.19601406, 0.00085349])"
      ]
     },
     "execution_count": 19,
     "metadata": {},
     "output_type": "execute_result"
    }
   ],
   "source": [
    "weights"
   ]
  },
  {
   "cell_type": "code",
   "execution_count": 20,
   "id": "41c8d2ce",
   "metadata": {},
   "outputs": [],
   "source": [
    "def get_dice_scores(sample_ids, methods, weights):\n",
    "    dices = np.zeros(len(sample_ids))\n",
    "\n",
    "    for s,sid in enumerate(sample_ids):\n",
    "        gt = get_gt(sid)\n",
    "        gt = (gt > 0).astype('int')\n",
    "        m_masks = []\n",
    "\n",
    "        for m,method in enumerate(methods):\n",
    "            method_mask = get_mask(datapath, sid, method).astype('float')\n",
    "            method_mask[method_mask > 0] = weights[m]\n",
    "            m_masks.append(method_mask)\n",
    "\n",
    "        pseudo_gt = (sum(m_masks) >= 0.75).astype('int')\n",
    "        dices[s] = dice_coeff(gt, pseudo_gt)\n",
    "        \n",
    "    return dices"
   ]
  },
  {
   "cell_type": "code",
   "execution_count": 21,
   "id": "ff3c36af",
   "metadata": {},
   "outputs": [],
   "source": [
    "equal_weights = np.ones(len(methods)) * (1/len(methods))\n",
    "dices = get_dice_scores(sample_ids, methods, equal_weights)\n",
    "w_dices = get_dice_scores(sample_ids, methods, weights)"
   ]
  },
  {
   "cell_type": "code",
   "execution_count": 22,
   "id": "6f57ef9c",
   "metadata": {},
   "outputs": [
    {
     "data": {
      "image/png": "[encoded data removed]",
      "text/plain": [
       "<Figure size 600x600 with 1 Axes>"
      ]
     },
     "metadata": {},
     "output_type": "display_data"
    }
   ],
   "source": [
    "xlabels = [s.split('-')[-1].strip() for s in sample_ids]\n",
    "fig, ax = plt.subplots(1, figsize=(6,6))\n",
    "\n",
    "ax.set(ylim=[0.70,0.9])\n",
    "\n",
    "ax.bar(np.arange(5)-0.11, dices, color='royalblue', width=0.2)\n",
    "ax.bar(np.arange(5)+0.11, w_dices, color='coral', width=0.2)\n",
    "\n",
    "plt.setp(ax, xticks=np.arange(5), xticklabels=xlabels)\n",
    "\n",
    "labels = ['equal weights', 'diff weights']\n",
    "handles = [plt.Rectangle((0,0),1,1, color=c) for c in ['royalblue','coral']]\n",
    "\n",
    "plt.yticks(np.arange(0.7, 0.9, 0.02))\n",
    "plt.legend(handles, labels)\n",
    "plt.ylabel('Dice')\n",
    "plt.show()"
   ]
  },
  {
   "cell_type": "code",
   "execution_count": null,
   "id": "9212cba5",
   "metadata": {},
   "outputs": [],
   "source": []
  }
 ],
 "metadata": {
  "kernelspec": {
   "display_name": "Python [conda env:vit-mesmer] *",
   "language": "python",
   "name": "conda-env-vit-mesmer-py"
  },
  "language_info": {
   "codemirror_mode": {
    "name": "ipython",
    "version": 3
   },
   "file_extension": ".py",
   "mimetype": "text/x-python",
   "name": "python",
   "nbconvert_exporter": "python",
   "pygments_lexer": "ipython3",
   "version": "3.8.12"
  }
 },
 "nbformat": 4,
 "nbformat_minor": 5
}
